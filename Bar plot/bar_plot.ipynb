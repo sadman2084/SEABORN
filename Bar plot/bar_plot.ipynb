{
 "cells": [
  {
   "cell_type": "markdown",
   "metadata": {},
   "source": [
    "Bar plot"
   ]
  },
  {
   "cell_type": "code",
   "execution_count": null,
   "metadata": {},
   "outputs": [
    {
     "name": "stderr",
     "output_type": "stream",
     "text": [
      "C:\\TEMP\\ipykernel_9032\\3236479138.py:9: FutureWarning: \n",
      "\n",
      "The `ci` parameter is deprecated. Use `errorbar=('ci', 50)` for the same effect.\n",
      "\n",
      "  sns.barplot(x=load_data.num1,y=load_data.num2,\n",
      "C:\\TEMP\\ipykernel_9032\\3236479138.py:9: FutureWarning: \n",
      "\n",
      "Setting a gradient palette using color= is deprecated and will be removed in v0.14.0. Set `palette='dark:blue'` for the same effect.\n",
      "\n",
      "  sns.barplot(x=load_data.num1,y=load_data.num2,\n",
      "C:\\TEMP\\ipykernel_9032\\3236479138.py:9: FutureWarning: \n",
      "\n",
      "The `errcolor` parameter is deprecated. And will be removed in v0.15.0. Pass `err_kws={'color': 'red'}` instead.\n",
      "\n",
      "  sns.barplot(x=load_data.num1,y=load_data.num2,\n",
      "C:\\TEMP\\ipykernel_9032\\3236479138.py:9: FutureWarning: \n",
      "\n",
      "The `errwidth` parameter is deprecated. And will be removed in v0.15.0. Pass `err_kws={'linewidth': 10}` instead.\n",
      "\n",
      "  sns.barplot(x=load_data.num1,y=load_data.num2,\n"
     ]
    },
    {
     "data": {
      "image/png": "[encoded data removed]",
      "text/plain": [
       "<Figure size 640x480 with 1 Axes>"
      ]
     },
     "metadata": {},
     "output_type": "display_data"
    }
   ],
   "source": [
    "import matplotlib.pyplot as plt\n",
    "import pandas as pd\n",
    "import seaborn as sns\n",
    "\n",
    "load_data=sns.load_dataset(\"anagrams\")\n",
    "#load_data\n",
    "sns.set(style=\"darkgrid\")#makes a color full grid\n",
    "sequence = sorted(load_data.num3) #it will bring the num3 front.\n",
    "sns.barplot(x=load_data.num1,y=load_data.num2,\n",
    "            data=load_data,hue=load_data.num3,\n",
    "            order=sequence,\n",
    "            hue_order=[\"num3\",\"num1\"],ci=50,n_boot=100,\n",
    "            orient=\"v\",color=\"blue\",saturation=100,\n",
    "            errcolor=\"red\",errwidth=10,width=1,capsize=1,\n",
    "            alpha=0.1)\n",
    "#\"hue_order\" can also change the sequence of x axis.\n",
    "#'ci' shows the interval of the bars.The range of ci is 0 to 100 only.\n",
    "#\"n_boot\" can also be used for interval.\n",
    "# \"orient\" is used to show the graph vertial or horizontally.orient=\"h\" or orient=\"v\"\n",
    "#\"color\" is used to change the color of bar\n",
    "#\"saturation\" makes the bar color light weight\n",
    "#\"errcolor\" changes the color of interval lines\n",
    "#\"errwidth\" increase or decrease the width of interval\n",
    "#\"width\" changes the width of the bar\n",
    "#\"capsize\" enables a cap on the interval\n",
    "#\"alpha\" same a saturation\n",
    "#\n",
    "\n",
    "\n",
    "\n",
    "\n",
    "\n",
    "plt.show()\n"
   ]
  },
  {
   "cell_type": "code",
   "execution_count": null,
   "metadata": {},
   "outputs": [],
   "source": []
  }
 ],
 "metadata": {
  "kernelspec": {
   "display_name": ".venv",
   "language": "python",
   "name": "python3"
  },
  "language_info": {
   "codemirror_mode": {
    "name": "ipython",
    "version": 3
   },
   "file_extension": ".py",
   "mimetype": "text/x-python",
   "name": "python",
   "nbconvert_exporter": "python",
   "pygments_lexer": "ipython3",
   "version": "3.12.2"
  }
 },
 "nbformat": 4,
 "nbformat_minor": 2
}
