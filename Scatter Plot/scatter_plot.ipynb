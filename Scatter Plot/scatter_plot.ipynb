{
 "cells": [
  {
   "cell_type": "markdown",
   "metadata": {},
   "source": [
    "Scatter Plot"
   ]
  },
  {
   "cell_type": "code",
   "execution_count": 19,
   "metadata": {},
   "outputs": [
    {
     "ename": "ValueError",
     "evalue": "These `markers` levels are missing values: {np.float64(194.78), np.float64(133.8), np.float64(133.93), np.float64(136.05), np.float64(137.13), np.float64(139.15), np.float64(139.91), np.float64(142.39), np.float64(142.8), np.float64(144.18), np.float64(145.08), np.float64(82.75), np.float64(151.48), np.float64(96.57), np.float64(165.63), np.float64(167.02), np.float64(108.92), np.float64(110.35), np.float64(114.47), np.float64(120.92)}",
     "output_type": "error",
     "traceback": [
      "\u001b[1;31m---------------------------------------------------------------------------\u001b[0m",
      "\u001b[1;31mValueError\u001b[0m                                Traceback (most recent call last)",
      "Cell \u001b[1;32mIn[19], line 8\u001b[0m\n\u001b[0;32m      6\u001b[0m \u001b[38;5;66;03m# data_load\u001b[39;00m\n\u001b[0;32m      7\u001b[0m m\u001b[38;5;241m=\u001b[39m{\u001b[38;5;124m\"\u001b[39m\u001b[38;5;124mins_losses\u001b[39m\u001b[38;5;124m\"\u001b[39m:\u001b[38;5;124m\"\u001b[39m\u001b[38;5;124m*\u001b[39m\u001b[38;5;124m\"\u001b[39m,\u001b[38;5;124m\"\u001b[39m\u001b[38;5;124mspeeding\u001b[39m\u001b[38;5;124m\"\u001b[39m:\u001b[38;5;124m\"\u001b[39m\u001b[38;5;124mo\u001b[39m\u001b[38;5;124m\"\u001b[39m}\n\u001b[1;32m----> 8\u001b[0m \u001b[43msns\u001b[49m\u001b[38;5;241;43m.\u001b[39;49m\u001b[43mscatterplot\u001b[49m\u001b[43m(\u001b[49m\u001b[43mx\u001b[49m\u001b[38;5;241;43m=\u001b[39;49m\u001b[43mdata_load\u001b[49m\u001b[38;5;241;43m.\u001b[39;49m\u001b[43mspeeding\u001b[49m\u001b[43m,\u001b[49m\u001b[43my\u001b[49m\u001b[38;5;241;43m=\u001b[39;49m\u001b[43mdata_load\u001b[49m\u001b[38;5;241;43m.\u001b[39;49m\u001b[43malcohol\u001b[49m\u001b[43m,\u001b[49m\n\u001b[0;32m      9\u001b[0m \u001b[43m                \u001b[49m\u001b[43mdata\u001b[49m\u001b[38;5;241;43m=\u001b[39;49m\u001b[43mdata_load\u001b[49m\u001b[43m,\u001b[49m\u001b[43mhue\u001b[49m\u001b[38;5;241;43m=\u001b[39;49m\u001b[38;5;124;43m\"\u001b[39;49m\u001b[38;5;124;43mins_losses\u001b[39;49m\u001b[38;5;124;43m\"\u001b[39;49m\u001b[43m,\u001b[49m\u001b[43mstyle\u001b[49m\u001b[38;5;241;43m=\u001b[39;49m\u001b[38;5;124;43m\"\u001b[39;49m\u001b[38;5;124;43mins_losses\u001b[39;49m\u001b[38;5;124;43m\"\u001b[39;49m\n\u001b[0;32m     10\u001b[0m \u001b[43m                \u001b[49m\u001b[43m,\u001b[49m\u001b[43msize\u001b[49m\u001b[38;5;241;43m=\u001b[39;49m\u001b[38;5;124;43m\"\u001b[39;49m\u001b[38;5;124;43mins_losses\u001b[39;49m\u001b[38;5;124;43m\"\u001b[39;49m\u001b[43m,\u001b[49m\u001b[43msizes\u001b[49m\u001b[38;5;241;43m=\u001b[39;49m\u001b[43m(\u001b[49m\u001b[38;5;241;43m50\u001b[39;49m\u001b[43m,\u001b[49m\u001b[38;5;241;43m70\u001b[39;49m\u001b[43m)\u001b[49m\u001b[43m,\u001b[49m\u001b[43mcolor\u001b[49m\u001b[38;5;241;43m=\u001b[39;49m\u001b[38;5;124;43m\"\u001b[39;49m\u001b[38;5;124;43mblue\u001b[39;49m\u001b[38;5;124;43m\"\u001b[39;49m\u001b[43m,\u001b[49m\u001b[43mpalette\u001b[49m\u001b[38;5;241;43m=\u001b[39;49m\u001b[38;5;124;43m\"\u001b[39;49m\u001b[38;5;124;43mAccent\u001b[39;49m\u001b[38;5;124;43m\"\u001b[39;49m\u001b[43m,\u001b[49m\n\u001b[0;32m     11\u001b[0m \u001b[43m                \u001b[49m\u001b[43malpha\u001b[49m\u001b[38;5;241;43m=\u001b[39;49m\u001b[38;5;241;43m0.6\u001b[39;49m\u001b[43m,\u001b[49m\u001b[43mmarkers\u001b[49m\u001b[38;5;241;43m=\u001b[39;49m\u001b[43mm\u001b[49m\u001b[43m)\u001b[49m\n\u001b[0;32m     12\u001b[0m \u001b[38;5;66;03m#\"hue\" is used to overlap new plot\u001b[39;00m\n\u001b[0;32m     13\u001b[0m \u001b[38;5;66;03m#\"style\" is used to identify different plot by using varies signs\u001b[39;00m\n\u001b[0;32m     14\u001b[0m \u001b[38;5;66;03m#\"size\" is used to make big the sizes of the called function,in this case it is ins_losses\u001b[39;00m\n\u001b[1;32m   (...)\u001b[0m\n\u001b[0;32m     17\u001b[0m \u001b[38;5;66;03m#\"alpha\" customizes the saturation and its range is 0 to 1\u001b[39;00m\n\u001b[0;32m     18\u001b[0m \u001b[38;5;66;03m#\u001b[39;00m\n\u001b[0;32m     21\u001b[0m plt\u001b[38;5;241m.\u001b[39mshow()\n",
      "File \u001b[1;32me:\\seaborn\\Scatter Plot\\.venv\\Lib\\site-packages\\seaborn\\relational.py:623\u001b[0m, in \u001b[0;36mscatterplot\u001b[1;34m(data, x, y, hue, size, style, palette, hue_order, hue_norm, sizes, size_order, size_norm, markers, style_order, legend, ax, **kwargs)\u001b[0m\n\u001b[0;32m    621\u001b[0m p\u001b[38;5;241m.\u001b[39mmap_hue(palette\u001b[38;5;241m=\u001b[39mpalette, order\u001b[38;5;241m=\u001b[39mhue_order, norm\u001b[38;5;241m=\u001b[39mhue_norm)\n\u001b[0;32m    622\u001b[0m p\u001b[38;5;241m.\u001b[39mmap_size(sizes\u001b[38;5;241m=\u001b[39msizes, order\u001b[38;5;241m=\u001b[39msize_order, norm\u001b[38;5;241m=\u001b[39msize_norm)\n\u001b[1;32m--> 623\u001b[0m \u001b[43mp\u001b[49m\u001b[38;5;241;43m.\u001b[39;49m\u001b[43mmap_style\u001b[49m\u001b[43m(\u001b[49m\u001b[43mmarkers\u001b[49m\u001b[38;5;241;43m=\u001b[39;49m\u001b[43mmarkers\u001b[49m\u001b[43m,\u001b[49m\u001b[43m \u001b[49m\u001b[43morder\u001b[49m\u001b[38;5;241;43m=\u001b[39;49m\u001b[43mstyle_order\u001b[49m\u001b[43m)\u001b[49m\n\u001b[0;32m    625\u001b[0m \u001b[38;5;28;01mif\u001b[39;00m ax \u001b[38;5;129;01mis\u001b[39;00m \u001b[38;5;28;01mNone\u001b[39;00m:\n\u001b[0;32m    626\u001b[0m     ax \u001b[38;5;241m=\u001b[39m plt\u001b[38;5;241m.\u001b[39mgca()\n",
      "File \u001b[1;32me:\\seaborn\\Scatter Plot\\.venv\\Lib\\site-packages\\seaborn\\_base.py:846\u001b[0m, in \u001b[0;36mVectorPlotter.map_style\u001b[1;34m(self, markers, dashes, order)\u001b[0m\n\u001b[0;32m    845\u001b[0m \u001b[38;5;28;01mdef\u001b[39;00m\u001b[38;5;250m \u001b[39m\u001b[38;5;21mmap_style\u001b[39m(\u001b[38;5;28mself\u001b[39m, markers\u001b[38;5;241m=\u001b[39m\u001b[38;5;28;01mNone\u001b[39;00m, dashes\u001b[38;5;241m=\u001b[39m\u001b[38;5;28;01mNone\u001b[39;00m, order\u001b[38;5;241m=\u001b[39m\u001b[38;5;28;01mNone\u001b[39;00m):\n\u001b[1;32m--> 846\u001b[0m     mapping \u001b[38;5;241m=\u001b[39m \u001b[43mStyleMapping\u001b[49m\u001b[43m(\u001b[49m\u001b[38;5;28;43mself\u001b[39;49m\u001b[43m,\u001b[49m\u001b[43m \u001b[49m\u001b[43mmarkers\u001b[49m\u001b[43m,\u001b[49m\u001b[43m \u001b[49m\u001b[43mdashes\u001b[49m\u001b[43m,\u001b[49m\u001b[43m \u001b[49m\u001b[43morder\u001b[49m\u001b[43m)\u001b[49m\n\u001b[0;32m    847\u001b[0m     \u001b[38;5;28mself\u001b[39m\u001b[38;5;241m.\u001b[39m_style_map \u001b[38;5;241m=\u001b[39m mapping\n",
      "File \u001b[1;32me:\\seaborn\\Scatter Plot\\.venv\\Lib\\site-packages\\seaborn\\_base.py:546\u001b[0m, in \u001b[0;36mStyleMapping.__init__\u001b[1;34m(self, plotter, markers, dashes, order)\u001b[0m\n\u001b[0;32m    543\u001b[0m \u001b[38;5;66;03m# Find ordered unique values\u001b[39;00m\n\u001b[0;32m    544\u001b[0m levels \u001b[38;5;241m=\u001b[39m categorical_order(data, order)\n\u001b[1;32m--> 546\u001b[0m markers \u001b[38;5;241m=\u001b[39m \u001b[38;5;28;43mself\u001b[39;49m\u001b[38;5;241;43m.\u001b[39;49m\u001b[43m_map_attributes\u001b[49m\u001b[43m(\u001b[49m\n\u001b[0;32m    547\u001b[0m \u001b[43m    \u001b[49m\u001b[43mmarkers\u001b[49m\u001b[43m,\u001b[49m\u001b[43m \u001b[49m\u001b[43mlevels\u001b[49m\u001b[43m,\u001b[49m\u001b[43m \u001b[49m\u001b[43munique_markers\u001b[49m\u001b[43m(\u001b[49m\u001b[38;5;28;43mlen\u001b[39;49m\u001b[43m(\u001b[49m\u001b[43mlevels\u001b[49m\u001b[43m)\u001b[49m\u001b[43m)\u001b[49m\u001b[43m,\u001b[49m\u001b[43m \u001b[49m\u001b[38;5;124;43m\"\u001b[39;49m\u001b[38;5;124;43mmarkers\u001b[39;49m\u001b[38;5;124;43m\"\u001b[39;49m\u001b[43m,\u001b[49m\n\u001b[0;32m    548\u001b[0m \u001b[43m\u001b[49m\u001b[43m)\u001b[49m\n\u001b[0;32m    549\u001b[0m dashes \u001b[38;5;241m=\u001b[39m \u001b[38;5;28mself\u001b[39m\u001b[38;5;241m.\u001b[39m_map_attributes(\n\u001b[0;32m    550\u001b[0m     dashes, levels, unique_dashes(\u001b[38;5;28mlen\u001b[39m(levels)), \u001b[38;5;124m\"\u001b[39m\u001b[38;5;124mdashes\u001b[39m\u001b[38;5;124m\"\u001b[39m,\n\u001b[0;32m    551\u001b[0m )\n\u001b[0;32m    553\u001b[0m \u001b[38;5;66;03m# Build the paths matplotlib will use to draw the markers\u001b[39;00m\n",
      "File \u001b[1;32me:\\seaborn\\Scatter Plot\\.venv\\Lib\\site-packages\\seaborn\\_base.py:599\u001b[0m, in \u001b[0;36mStyleMapping._map_attributes\u001b[1;34m(self, arg, levels, defaults, attr)\u001b[0m\n\u001b[0;32m    597\u001b[0m     \u001b[38;5;28;01mif\u001b[39;00m missing:\n\u001b[0;32m    598\u001b[0m         err \u001b[38;5;241m=\u001b[39m \u001b[38;5;124mf\u001b[39m\u001b[38;5;124m\"\u001b[39m\u001b[38;5;124mThese `\u001b[39m\u001b[38;5;132;01m{\u001b[39;00mattr\u001b[38;5;132;01m}\u001b[39;00m\u001b[38;5;124m` levels are missing values: \u001b[39m\u001b[38;5;132;01m{\u001b[39;00mmissing\u001b[38;5;132;01m}\u001b[39;00m\u001b[38;5;124m\"\u001b[39m\n\u001b[1;32m--> 599\u001b[0m         \u001b[38;5;28;01mraise\u001b[39;00m \u001b[38;5;167;01mValueError\u001b[39;00m(err)\n\u001b[0;32m    600\u001b[0m     lookup_table \u001b[38;5;241m=\u001b[39m arg\n\u001b[0;32m    601\u001b[0m \u001b[38;5;28;01melif\u001b[39;00m \u001b[38;5;28misinstance\u001b[39m(arg, Sequence):\n",
      "\u001b[1;31mValueError\u001b[0m: These `markers` levels are missing values: {np.float64(194.78), np.float64(133.8), np.float64(133.93), np.float64(136.05), np.float64(137.13), np.float64(139.15), np.float64(139.91), np.float64(142.39), np.float64(142.8), np.float64(144.18), np.float64(145.08), np.float64(82.75), np.float64(151.48), np.float64(96.57), np.float64(165.63), np.float64(167.02), np.float64(108.92), np.float64(110.35), np.float64(114.47), np.float64(120.92)}"
     ]
    }
   ],
   "source": [
    "import matplotlib.pyplot as plt\n",
    "import pandas as pd\n",
    "import seaborn as sns\n",
    "\n",
    "data_load=sns.load_dataset(\"car_crashes\").head(20)\n",
    "# data_load\n",
    "m={\"ins_losses\":\"*\",\"speeding\":\"o\"}\n",
    "sns.scatterplot(x=data_load.speeding,y=data_load.alcohol,\n",
    "                data=data_load,hue=\"ins_losses\",style=\"ins_losses\"\n",
    "                ,size=\"ins_losses\",sizes=(50,70),color=\"blue\",palette=\"Accent\",\n",
    "                alpha=0.6)\n",
    "#\"hue\" is used to overlap new plot\n",
    "#\"style\" is used to identify different plot by using varies signs\n",
    "#\"size\" is used to make big the sizes of the called function,in this case it is ins_losses\n",
    "#\"sizes\" is use to make the different size of the dots showed in plot\n",
    "#\"palette\" changes the color also\n",
    "#\"alpha\" customizes the saturation and its range is 0 to 1\n",
    "#\n",
    "\n",
    "\n",
    "plt.show()"
   ]
  },
  {
   "cell_type": "code",
   "execution_count": null,
   "metadata": {},
   "outputs": [],
   "source": []
  }
 ],
 "metadata": {
  "kernelspec": {
   "display_name": ".venv",
   "language": "python",
   "name": "python3"
  },
  "language_info": {
   "codemirror_mode": {
    "name": "ipython",
    "version": 3
   },
   "file_extension": ".py",
   "mimetype": "text/x-python",
   "name": "python",
   "nbconvert_exporter": "python",
   "pygments_lexer": "ipython3",
   "version": "3.12.8"
  }
 },
 "nbformat": 4,
 "nbformat_minor": 2
}
